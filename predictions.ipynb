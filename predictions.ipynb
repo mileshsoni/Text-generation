{
 "cells": [
  {
   "cell_type": "code",
   "execution_count": 13,
   "metadata": {},
   "outputs": [],
   "source": [
    "from tensorflow.keras.models import load_model\n",
    "from keras.preprocessing.sequence import pad_sequences"
   ]
  },
  {
   "cell_type": "code",
   "execution_count": 14,
   "metadata": {},
   "outputs": [],
   "source": [
    "model = load_model('model.keras')"
   ]
  },
  {
   "cell_type": "code",
   "execution_count": 15,
   "metadata": {},
   "outputs": [],
   "source": [
    "import pickle\n",
    "with open('tokenizer.pkl', 'rb') as file :\n",
    "    tokenizer = pickle.load(file)"
   ]
  },
  {
   "cell_type": "code",
   "execution_count": 16,
   "metadata": {},
   "outputs": [],
   "source": [
    "max_sequence_len = 20"
   ]
  },
  {
   "cell_type": "code",
   "execution_count": 20,
   "metadata": {},
   "outputs": [
    {
     "name": "stdout",
     "output_type": "stream",
     "text": [
      "It was not that he felt any emotion akin to love for Irene Adler. All emotions, and the letter all the matter can we have been too\n"
     ]
    }
   ],
   "source": [
    "import numpy as np\n",
    "next_words = 10\n",
    "seed_text = \"It was not that he felt any emotion akin to love for Irene Adler. All emotions, and\"\n",
    "for _ in range(next_words) :\n",
    "    sequence = tokenizer.texts_to_sequences([seed_text])\n",
    "    padded_sequence = pad_sequences(sequence, maxlen=max_sequence_len-1)\n",
    "    predicted = model.predict(padded_sequence, verbose = 0)\n",
    "    predicted = np.argmax(predicted)\n",
    "    output_word = ''\n",
    "    for word, index  in tokenizer.word_index.items() :\n",
    "        if index == predicted :\n",
    "            output_word = word\n",
    "            break\n",
    "    seed_text += ' ' + output_word\n",
    "print(seed_text)"
   ]
  }
 ],
 "metadata": {
  "kernelspec": {
   "display_name": "env",
   "language": "python",
   "name": "python3"
  },
  "language_info": {
   "codemirror_mode": {
    "name": "ipython",
    "version": 3
   },
   "file_extension": ".py",
   "mimetype": "text/x-python",
   "name": "python",
   "nbconvert_exporter": "python",
   "pygments_lexer": "ipython3",
   "version": "3.11.3"
  }
 },
 "nbformat": 4,
 "nbformat_minor": 2
}
